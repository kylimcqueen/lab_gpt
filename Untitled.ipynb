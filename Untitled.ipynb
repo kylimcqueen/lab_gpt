{
 "cells": [
  {
   "cell_type": "code",
   "execution_count": 1,
   "id": "4340e5fb-7af2-46ab-b436-bac34c0d99d0",
   "metadata": {},
   "outputs": [],
   "source": [
    "import os\n",
    "from dotenv import load_dotenv\n",
    "\n",
    "# Load the environment file explicitly\n",
    "from pathlib import Path\n",
    "dotenv_path = Path('/Users/kyli/Documents/GitHub/lab_gpt/.env')\n",
    "load_dotenv(dotenv_path=dotenv_path)\n",
    "\n",
    "# Access variables\n",
    "openai_api_key = os.getenv(\"OPENAI_API_KEY\")\n",
    "google_maps_api_key = os.getenv(\"GOOGLE_MAPS_API_KEY\")\n",
    "huggingface_api_key = os.getenv(\"HUGGINGFACE_API_KEY\")\n",
    "pinecone_api_key = os.getenv(\"PINECONE_API_KEY\")\n",
    "langchain_api_key = os.getenv(\"LANGCHAIN_API_KEY\")"
   ]
  },
  {
   "cell_type": "code",
   "execution_count": 2,
   "id": "e0ab1fb7-fa35-4a3c-998c-4b2ab09f08dc",
   "metadata": {},
   "outputs": [],
   "source": [
    "from langchain_openai import ChatOpenAI #ChatOpenAI is a chat model, an instance of a class for interacting with an LLM\n"
   ]
  },
  {
   "cell_type": "code",
   "execution_count": 3,
   "id": "7f8841cb-d4bc-4179-8c20-5abb511741df",
   "metadata": {},
   "outputs": [
    {
     "data": {
      "text/plain": [
       "AIMessage(content='Sure! Here are a few name suggestions for your restaurant:\\n\\n1. **Savory Seasons**\\n2. **Epicurean Escape**\\n3. **Taste Haven**\\n4. **Culinary Canvas**\\n5. **Flavors & Friends**\\n6. **Harvest Table**\\n7. **Gastronomy Galore**\\n8. **Bistro Bliss**\\n9. **The Hungry Palette**\\n10. **Savor Street**\\n\\nFeel free to mix and match or modify any of these to better fit your vision!', additional_kwargs={'refusal': None}, response_metadata={'token_usage': {'completion_tokens': 103, 'prompt_tokens': 18, 'total_tokens': 121, 'completion_tokens_details': {'accepted_prediction_tokens': 0, 'audio_tokens': 0, 'reasoning_tokens': 0, 'rejected_prediction_tokens': 0}, 'prompt_tokens_details': {'audio_tokens': 0, 'cached_tokens': 0}}, 'model_name': 'gpt-4o-mini-2024-07-18', 'system_fingerprint': 'fp_00428b782a', 'finish_reason': 'stop', 'logprobs': None}, id='run-8c498b96-d8f2-4b21-8288-da5efeb81211-0', usage_metadata={'input_tokens': 18, 'output_tokens': 103, 'total_tokens': 121, 'input_token_details': {'audio': 0, 'cache_read': 0}, 'output_token_details': {'audio': 0, 'reasoning': 0}})"
      ]
     },
     "execution_count": 3,
     "metadata": {},
     "output_type": "execute_result"
    }
   ],
   "source": [
    "llm = ChatOpenAI(model=\"gpt-4o-mini\") #instantiate the ChatOpenAI model object\n",
    "llm.invoke(\"I want to make a restaurant. Suggest a name.\")"
   ]
  },
  {
   "cell_type": "code",
   "execution_count": 13,
   "id": "f99c12b2-7bba-4c48-bb93-76e8a625d31f",
   "metadata": {},
   "outputs": [
    {
     "data": {
      "text/plain": [
       "AIMessage(content='It sounds like you might be referring to a specific name or title. If you share more details about it, I can help you discuss why it might not resonate well or suggest alternatives!', additional_kwargs={'refusal': None}, response_metadata={'token_usage': {'completion_tokens': 38, 'prompt_tokens': 14, 'total_tokens': 52, 'completion_tokens_details': {'accepted_prediction_tokens': 0, 'audio_tokens': 0, 'reasoning_tokens': 0, 'rejected_prediction_tokens': 0}, 'prompt_tokens_details': {'audio_tokens': 0, 'cached_tokens': 0}}, 'model_name': 'gpt-4o-mini-2024-07-18', 'system_fingerprint': 'fp_13eed4fce1', 'finish_reason': 'stop', 'logprobs': None}, id='run-0b455ebf-5f57-4cf0-b245-ffba922411a3-0', usage_metadata={'input_tokens': 14, 'output_tokens': 38, 'total_tokens': 52, 'input_token_details': {'audio': 0, 'cache_read': 0}, 'output_token_details': {'audio': 0, 'reasoning': 0}})"
      ]
     },
     "execution_count": 13,
     "metadata": {},
     "output_type": "execute_result"
    }
   ],
   "source": [
    "llm.invoke(\"That's kind of a bad name.\")"
   ]
  },
  {
   "cell_type": "code",
   "execution_count": null,
   "id": "4096a9f0-10eb-4bc8-8772-f115c04a2320",
   "metadata": {},
   "outputs": [],
   "source": []
  }
 ],
 "metadata": {
  "kernelspec": {
   "display_name": "Python (lab_gpt_env)",
   "language": "python",
   "name": "lab_gpt_env"
  },
  "language_info": {
   "codemirror_mode": {
    "name": "ipython",
    "version": 3
   },
   "file_extension": ".py",
   "mimetype": "text/x-python",
   "name": "python",
   "nbconvert_exporter": "python",
   "pygments_lexer": "ipython3",
   "version": "3.12.2"
  }
 },
 "nbformat": 4,
 "nbformat_minor": 5
}
