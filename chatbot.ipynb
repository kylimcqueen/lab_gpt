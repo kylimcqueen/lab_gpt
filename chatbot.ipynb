{
 "cells": [
  {
   "cell_type": "code",
   "execution_count": 1,
   "id": "aa8e72b2-c3aa-4fd7-8b19-446f0eb45541",
   "metadata": {},
   "outputs": [],
   "source": [
    "#Import necessary packages\n",
    "import os\n",
    "from openai import OpenAI\n"
   ]
  },
  {
   "cell_type": "code",
   "execution_count": 2,
   "id": "768a21fd-d919-4479-be9c-6d2ea8a1b641",
   "metadata": {},
   "outputs": [],
   "source": [
    "#Return later to figure out how to load environment variables file"
   ]
  },
  {
   "cell_type": "code",
   "execution_count": 5,
   "id": "53ed48a4-9afc-4e7c-854c-64f819badb03",
   "metadata": {},
   "outputs": [],
   "source": [
    "#Langchain import statements\n",
    "from langchain.document_loaders import DirectoryLoader\n",
    "from langchain.text_splitter import RecursiveCharacterTextSplitter\n",
    "from langchain.embeddings import OpenAIEmbeddings\n",
    "from langchain.vectorstores import Chroma\n",
    "from langchain.chains import RetrievalQA\n",
    "from langchain.chat_models import ChatOpenAI"
   ]
  },
  {
   "cell_type": "code",
   "execution_count": 6,
   "id": "53d5ee5d-e0af-4fb6-bd59-8d7ce1a6adfe",
   "metadata": {},
   "outputs": [],
   "source": [
    "#Tkinter import statements\n",
    "import tkinter as tk\n",
    "from tkinter import filedialog"
   ]
  },
  {
   "cell_type": "code",
   "execution_count": 7,
   "id": "396e0e88-3a21-4a94-94fb-54f02069c1fd",
   "metadata": {},
   "outputs": [],
   "source": [
    "#Load and preprocess documents\n",
    "loader = DirectoryLoader(\"/Users/Kyli/Downloads\")"
   ]
  },
  {
   "cell_type": "code",
   "execution_count": 8,
   "id": "5310c74f-f3f1-45ea-8010-8a284a696ebe",
   "metadata": {},
   "outputs": [],
   "source": [
    "documents = loader.load()"
   ]
  },
  {
   "cell_type": "code",
   "execution_count": 11,
   "id": "542f408b-ff48-4eaf-b4f6-9c3559e22f0f",
   "metadata": {},
   "outputs": [
    {
     "data": {
      "text/plain": [
       "[]"
      ]
     },
     "execution_count": 11,
     "metadata": {},
     "output_type": "execute_result"
    }
   ],
   "source": [
    "documents"
   ]
  },
  {
   "cell_type": "code",
   "execution_count": null,
   "id": "770deb6f-9217-40d4-a986-30dd70df8ec6",
   "metadata": {},
   "outputs": [],
   "source": []
  }
 ],
 "metadata": {
  "kernelspec": {
   "display_name": "Python (lab_gpt_env)",
   "language": "python",
   "name": "lab_gpt_env"
  },
  "language_info": {
   "codemirror_mode": {
    "name": "ipython",
    "version": 3
   },
   "file_extension": ".py",
   "mimetype": "text/x-python",
   "name": "python",
   "nbconvert_exporter": "python",
   "pygments_lexer": "ipython3",
   "version": "3.12.7"
  }
 },
 "nbformat": 4,
 "nbformat_minor": 5
}
