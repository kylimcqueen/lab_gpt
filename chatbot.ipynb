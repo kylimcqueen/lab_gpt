{
 "cells": [
  {
   "cell_type": "code",
   "execution_count": 1,
   "id": "aa8e72b2-c3aa-4fd7-8b19-446f0eb45541",
   "metadata": {},
   "outputs": [],
   "source": [
    "#Import necessary packages\n",
    "import os\n",
    "from openai import OpenAI"
   ]
  },
  {
   "cell_type": "code",
   "execution_count": 2,
   "id": "768a21fd-d919-4479-be9c-6d2ea8a1b641",
   "metadata": {},
   "outputs": [],
   "source": [
    "#Return later to figure out how to load environment variables file DO THIS NEXT TIME YOU OPEN THE NOTEBOOK OR ELSE MOST RECENT CELL WONT RUN"
   ]
  },
  {
   "cell_type": "code",
   "execution_count": 3,
   "id": "53ed48a4-9afc-4e7c-854c-64f819badb03",
   "metadata": {},
   "outputs": [],
   "source": [
    "#Langchain import statements\n",
    "from langchain.document_loaders import DirectoryLoader\n",
    "from langchain.text_splitter import RecursiveCharacterTextSplitter\n",
    "from langchain.embeddings import OpenAIEmbeddings\n",
    "from langchain.vectorstores import Chroma\n",
    "from langchain.chains import RetrievalQA\n",
    "from langchain.chat_models import ChatOpenAI"
   ]
  },
  {
   "cell_type": "code",
   "execution_count": 4,
   "id": "53d5ee5d-e0af-4fb6-bd59-8d7ce1a6adfe",
   "metadata": {},
   "outputs": [],
   "source": [
    "#Tkinter import statements\n",
    "import tkinter as tk\n",
    "from tkinter import filedialog"
   ]
  },
  {
   "cell_type": "code",
   "execution_count": 5,
   "id": "396e0e88-3a21-4a94-94fb-54f02069c1fd",
   "metadata": {},
   "outputs": [],
   "source": [
    "#Load and preprocess documents\n",
    "loader = DirectoryLoader(\"/Users/kyli/Desktop/lab_gpt_example_docs\")"
   ]
  },
  {
   "cell_type": "code",
   "execution_count": 6,
   "id": "5310c74f-f3f1-45ea-8010-8a284a696ebe",
   "metadata": {},
   "outputs": [
    {
     "name": "stderr",
     "output_type": "stream",
     "text": [
      "/opt/anaconda3/envs/lab_gpt_env/lib/python3.12/site-packages/tqdm/auto.py:21: TqdmWarning: IProgress not found. Please update jupyter and ipywidgets. See https://ipywidgets.readthedocs.io/en/stable/user_install.html\n",
      "  from .autonotebook import tqdm as notebook_tqdm\n",
      "Matplotlib is building the font cache; this may take a moment.\n"
     ]
    }
   ],
   "source": [
    "#Load documents\n",
    "documents = loader.load()"
   ]
  },
  {
   "cell_type": "code",
   "execution_count": 7,
   "id": "542f408b-ff48-4eaf-b4f6-9c3559e22f0f",
   "metadata": {},
   "outputs": [
    {
     "data": {
      "text/plain": [
       "[Document(metadata={'source': '/Users/kyli/Desktop/lab_gpt_example_docs/Lifshitz Lab Web Book.pdf'}, page_content='Welcome to the Lifshitz Neurotrauma & Social Impact Team\\n\\nWelcome to the Lifshitz Neurotrauma and Social Impact Team, where collaboration, respect, diversity, and scientific excellence are our guiding principles. This handbook is your compass to navigate a meaningful journey within our lab.\\n\\nThe topics covered in this handbook include:\\n\\nIntroduction to Our Culture/Values - Onboarding / Training (Appendix A) - Getting Around / Locations (Appendix B) / Contacts (Appendix C) - Communications - intra-lab, collaboration - Safety, Tips, Etiquette, Emergency contacts (Appendix D, E, F) - Conclusion, Expectations, Lab Creed - APPENDIX:\\n\\nA - Training sites, frequencies ● B - map of campus, other relevant locations ● C - list of common outside POCs, google sheet link for us ● D - Drive locations for common documents/files ● E - Emergency Contacts ● F - Common Skills / Chores to help lab success ● G - FAQs of newcomers [ask questions! Especially to Dan]\\n\\nDecorate document with fun lab photos throughout\\n\\nLab Culture and Values:\\n\\nAt the heart of our lab is a commitment to fostering a culture that thrives on collaboration. We encourage open dialogue, knowledge sharing, and asking questions. We place great importance on treating each other with respect in our lab, regardless of background or role. We celebrate diversity as an asset, believing that varied perspectives enrich our collective understanding and drive innovation. Our lab is a safe space where discrimination, bias, and harassment are never tolerated. We stand united against this sort of behavior, promoting an atmosphere where everyone feels valued, understood, and supported.\\n\\nIn embracing diversity, we recognize that every member brings unique strengths and perspectives to our team. Everyone has areas to improve in as well. With a commitment to maintaining an inclusive environment where everyone is encouraged and poised to succeed, any lab mate would be honored to contribute to the growth of another. By nurturing a diverse community, we believe we can achieve greater scientific excellence and create meaningful social impact.\\n\\nAt the Lifshitz Neurotrauma and Social Impact Team, our foundation is built upon a set of core tenets that guide our actions and interactions. These values reflect our commitment to research, collaboration, and personal growth.\\n\\nOpen Communication:\\n\\nWe believe in fostering an environment where communication flows freely and\\n\\nopenly. Sharing ideas, concerns, and insights strengthens our collective knowledge and drives innovation.\\n\\nScientific Integrity:\\n\\nOur commitment to scientific integrity is unwavering. We conduct research with honesty, transparency, and meticulous attention to detail, ensuring that our work contributes to the advancement of knowledge.\\n\\nUnderstanding Each Other\\'s Strengths:\\n\\nWe recognize that each team member brings their own skillsets and ideas to our collective efforts. By acknowledging and leveraging these strengths, we create a well-rounded and effective team.\\n\\nAreas of Improvement:\\n\\nWe embrace a culture of continuous improvement. Identifying areas where we\\n\\ncan grow and supporting each other\\'s development enhances our individual and collective capabilities.\\n\\nThese core values are not just words on paper; they are the essence of our team\\'s identity. As members of the Lifshitz Neurotrauma and Social Impact Team, we cherish these lab traits in our daily interactions, our research endeavors, and our shared pursuit of excellence.\\n\\nOnboarding / Training:\\n\\n[list of recurring TRAINING in appendix]\\n\\nAs you embark on your journey with us, the mandatory initial training you must endure is intended to build a solid foundation and is typically required to conduct research on this campus. The Arizona EDGE Learning platform, TMS training modules, and CITI learning courses aim to equip you with the necessary knowledge for ethical, responsible, practical, safe research practices. Continuous learning and development are actively encouraged, as they play a pivotal role in your growth as a researcher. Don\\'t hesitate to explore the \"Research (R:) drive\" (see Appendix D) which houses valuable training materials, protocols, and manuals tailored to our lab\\'s focus areas. It should be seen as a treasure trove of resources containing valuable materials that can enrich your lab education and experience.\\n\\nAside from online training, your first days will involve getting acquainted with the lab space, meeting colleagues, and receiving an overview of ongoing research projects. This is an opportunity for you to familiarize yourself with our collaborative environment and understand how your role fits into our team\\'s mission. Getting to know those around you will help you during this time as they will more-than-likely provide insights into our research foci, methodologies, and common lab protocols.\\n\\nOnce your initial training is complete, you\\'ll gradually be immersed into our ongoing research projects. Collaborate with your team members, contribute your insights, and apply your newly acquired skills. That’s what we are all about! Learning is a continuous journey in our lab (ask Connor). We encourage you to take advantage of any opportunities for further training, attend workshops/conferences, be present in meetings, and engage in discussions to expand your knwledge and skillset.\\n\\nTo streamline collaboration and assistance, we maintain a Training Sufficiency list. This list will display the skills and expertise of each lab member. When seeking additional help or guidance, this resource helps identify the people that can assist you for a given task. It can be found on the R drive here:\\n\\nHow to get vivarium access, lab access → What the training covers: list specific topics/modules?\\n\\nLocations / Getting Around / Contacts:\\n\\nFor newcomers to the Lifshitz Neurotrauma and Social Impact Team, here is essential information about parking options:\\n\\nStreet Parking:\\n\\nStreet parking is available on Fillmore (east of 7th Street) and within nearby\\n\\nneighborhoods. Adhere to local parking regulations and be mindful of time limits.\\n\\nVA-provided Parking Passes:\\n\\nDepending on your role with the VA, you may be eligible for a parking pass on\\n\\ncampus. These grant access to the Phoenix Biomedical Campus parking garage.\\n\\nPurchased Parking Pass:\\n\\nYou can purchase a parking garage pass for a monthly fee (typically >$100/mo).\\n\\nStudent Parking Pass:\\n\\nStudents may purchase an annual pass (valid for the entire academic year).\\n\\nWhether you opt for street parking, a VA pass, or a parking permit, we aim to facilitate your parking needs and ensure your focus remains on your research.\\n\\n[SENTENCES ABOUT OTHER LOCATIONS&PURPOSE] Food, hospitals, vivarium, parking garage, Tgen, ballpark, freeways\\n\\n[map in appendix]\\n\\nBook your Bret Tour TODAY!\\n\\nBench set-up, restock supplies, locations of stations cryostat hood, pipetting, labeling, waste disposal, storage/waste rooms, clean glass vs bad, ethanol solution, where to place supply orders, do your lab upkeep tasks\\n\\nNext: hands-on practice, -\\n\\nLab Communications:\\n\\nEffective communication is the cornerstone of our collaborative endeavors. Miscommunication often leads to wasted efforts, missed tasks, confusion, and frustration. To avoid this, we utilize various platforms (e.g., Slack, Gmail, Teams, Zoom) to stay connected and informed, with each one serving a specified organizational purpose. Our regular meetings are designed to facilitate transparent communication and shared understanding. Whether it\\'s one-on-one sessions to address individual concerns or our lab group meetings held every Thursday at 9am, your voice matters. Additionally, our lab functions through dedicated project groups, each with recurring meetings to facilitate open communication and updates.\\n\\nSlack App:\\n\\nUsed for topic-specific and general communication throughout the workday. ● Create channels for different projects, share updates, and discuss ideas.\\n\\nEmails:\\n\\nFor ongoing communications and long-term planning. ● Use email for formal correspondence and important announcements.\\n\\nCalendar Invites:\\n\\nNecessary for scheduling procedures and meetings. ● Ensure that all team members are aware of upcoming activities.\\n\\nMicrosoft Teams:\\n\\nUsed on VA computers for seamless collaboration. ● Facilitates file sharing, video conferencing, and real-time collaboration.\\n\\nZoom:\\n\\nOften the preferred medium for virtual meetings. ● Use Zoom for group discussions, presentations, and remote collaborations.\\n\\nRegular Meetings:\\n\\nOne-on-One Meetings: Strongly encouraged for mentorship, guidance, and\\n\\nindividual progress updates.\\n\\nLab Group Meetings: Held every Thursday at 9am, providing an opportunity for the whole team to discuss ongoing projects, share insights, and align on goals.\\n\\nProject-Specific Group Meetings: [check specific slack channel]\\n\\nOpen Science Comms Sharing data, findings, and methods on platforms like BioRxiv and ODC-TBI and R:Drive Transparency and collaboration are also essential in our pursuit of knowledge. We endorse open science principles, sharing our data, findings, and methods with the broader scientific community. Platforms like BioRxiv, ODC-TBI, etc. facilitate this transparent exchange, allowing us to foster collaborations that lead to breakthroughs.\\n\\n[list of university and affiliated contacts in appendix]\\n\\nLab Safety Guidelines, Tips for Success, Etiquette:\\n\\nSafety is paramount in our lab. Adhering to safety guidelines and wearing appropriate personal protective equipment (PPE) is a shared responsibility. We also respect shared lab spaces and resources, ensuring they are left in an organized and safe condition for everyone\\'s use. Our \"Research (R:) drive\" is home to protocols and resources that offer insights into best practices.\\n\\nBe aware of process needed to order supplies and animals, not instant No connected devices to VA computers/printers/GFEs (USBs, Chargers, etc)\\n\\nTips for Success:\\n\\nSelf-care, work-life balance, seeking support, mental health ● Attention to detail, communicate, ask questions, challenge yourself\\n\\nTraveling to conferences, how and why ● Eraser incident (attention is safety and success) ● Paper plane (life/lab tips) ● Meetings ● Presenting (here to help, not criticize) ● Microwaving stinkies (be aware of others’ tolerance, manors) ● Speak confidently (feel, think, hope, believe) ● Itsy bitsy spider, black eyes, science failures (be resilient) ● Car stickers (dont, bad conduct) ● (Most) As an agent of the federal government, we represent the federal government; therefore, your conduct during the workday and in the workplace must be carefully considered\\n\\nWhile your work in the lab is essential, your well-being is equally important. We advocate for self-care and finding a balance between your professional and personal commitments. Don\\'t hesitate to seek support if you encounter challenges. Our lab environment is one where individuals are encouraged to maintain their mental health and prioritize their own growth and happiness. We don’t plan to be babysitters and clock-watchers. We are confident that everybody here wants to keep the lab moving forward and that they will do what is necessary to keep it that way.\\n\\nDuring virtual meetings, we kindly request that you find an office/conference room to prevent disturbances and ensure a productive discussion.\\n\\n[list of emergency POCs in appendix]\\n\\nEmergency Contacts and Campus Resources:\\n\\nList of emergency and non-emergency numbers.\\n\\nIn times of need, we want you to be well-informed about the resources available to you. Keep this list of essential emergency and non-emergency numbers handy. For life-threatening situations, always dial 9-1-1.\\n\\n[list of common laboratory upkeep tasks and protocols in appendix]\\n\\nConclusion and Encouragement:\\n\\nAs a member of the Lifshitz Neurotrauma and Social Impact Team, you are integral to our mission. Embrace the growth opportunities that lie ahead and contribute to the collaborative spirit that defines us. Together, we can forge a path toward a better understanding of the brain and its profound social implications.\\n\\nRemember, your success is our priority. Feel free to reach out to your mentors and colleagues if you have any questions or need assistance along the way. We look forward to your valuable contributions and growth as a member of the Lifshitz Neurotrauma and Social Impact Team.\\n\\nLifshitz Lab Creed:\\n\\nEmbedded within these principles is the Lifshitz Lab Creed. This creed signifies our collective commitment to uphold collaboration, diversity, and excellence. By aligning with this creed, we honor our lab\\'s values and contribute to the pursuit of scientific advancement.\\n\\n\"I am a member of the Lifshitz Neurotrauma and Social Impact team. I am a Scientist and a collaborator. I serve the pursuit of knowledge, the advancement of science, and the promotion of a supportive and inclusive environment.\\n\\nI will always prioritize the research mission and the well-being of my team. I will never cease in my quest for knowledge and understanding. I will never give up in the face of scientific challenges or social injustices. I will never hesitate to support and uplift my fellow researchers.\\n\\nI am disciplined, intellectually and experimentally rigorous, trained and skilled in my scientific endeavors. I always maintain the integrity of my data, my methods, and myself. I am an expert and I am a professional. I stand ready to explore, discover, and contribute to the frontiers of science while fostering a diverse and inclusive community. I am a guardian of truth, empathy, and social impact.\\n\\nI maintain a collaborative atmosphere, where we learn from one another and celebrate our diversity. I treat my teammates with respect, combat discrimination, and ensure a safe environment for all. I am an ally, standing up against bias, harassment, and discrimination. I respect and honor others\\' personal preferences, embracing individuality.\\n\\nI endorse racial equality and actively promote inclusivity. I communicate openly and directly about failures in these commitments, recognizing the impact of our words and actions on others\\' sense of self and comfort, and learn by listening and growing.\\n\\nI am a member of the Lifshitz Neurotrauma and social impact team, united in our pursuit of scientific excellence and positive social change.\\n\\nAPPENDIX:\\n\\nAppendix A: Training sites, frequencies\\n\\nCITI ● TMS / VA ● ARIZONA EDGE LEARNING\\n\\nAppendix B: map of campus, other relevant locations\\n\\nBSPB-PARKING GARAGE-TGEN-HSEB-AZ CENTER ● VIVARIUM, ANIMAL ROOMS ● MAP OF VA: BADGE OFFICE, AVREF, PARKING\\n\\nAppendix C: Points of Contact/Questions (intra-lab and outside)\\n\\nOrders: Bret ● Technical: Dan ● University IT Services: ● Animals: Trish ● DOD Team: Ray ● UA Team: Jonny ● Specific Projects? Grants? ● VA Badge: Parido? ● CatCard: Other building ● BNI/ASU? ● Microscopes (Keyence, Motic, Confocal) ● Maintenance: John Hayden ● VA ESD/IT: ● AVREF: Sunny/Jeremy\\n\\nAppendix D: Campus Emergency Contacts (Map?) ● Spills/Chemical/Biological ● Animal Welfare ● Fire/Disaster ● Security ● Maintenance ● Mental Health ● Health\\n\\nAppendix E: Common Lab Skills and Knowledge\\n\\nHere, you\\'ll find a comprehensive list of skills and knowledge that we believe every lab member should be familiar with. Depending on your role and the resources available, these competencies contribute to your versatility and effectiveness within the lab.\\n\\nList of essential skills for all lab members\\n\\nLabels on things and places ● Making PBS [protocol, location of recipe box] ● Dry ice / Order receiving ● Restock Surgery suite ● Ethanol and pipette tips ● Biowaste, trash, glass, solutions disposal ● H&E staining ● H&E station refill ● Freezing Brains [link to video] ● Surgery familiarization ● Perfusion familiarization ● Calibrate ph meter ● PFA Safety and protocol [orange caps and labels]\\n\\nAppendix F: Online Locations\\n\\nResearch (R:)\\n\\n■ Protocols and References ■ Equipment Guides/Manuals ■ Personal Lab Notebooks ■ Poster Examples ■ Video tutorials ■ Atlases\\n\\nGoogle\\n\\n■ Sign up sheets (dont be scared) ■ Order sheets [watch video] ■ Freezer inventories (QR Code)\\n\\nVA Research Drive\\n\\n■ Data, proposals, etc\\n\\nAppendix G: Newcomer Frequently Answered Questions:\\n\\nBADGE PROCESSING TIME (2-6 months) COMPENSATION FOR TRAVEL (detailed procedure???) ORDERING (where, how, when, why, who, what) BENCH SPACE CONFERENCE ROOM USE\\n\\nABSENCES / TIME OFF LAB MEETING EXPECTATIONS WHO IS ON THE FLOOR\\n\\nAdditional Notes:\\n\\nDOD LAB MEETINGS AT 9AM VA-UA RELATIONSHIP = ORDERING, FUNDING, SPACES, RULES? reminders/guidelines for use of equipment\\n\\nIntra-Hospital Directory: https://imlive.s3.amazonaws.com/Federal%20Government/ID233959182030819304107468389 637862386503/Attachment%20C%20PVAHCS%20Directory.pdf')]"
      ]
     },
     "execution_count": 7,
     "metadata": {},
     "output_type": "execute_result"
    }
   ],
   "source": [
    "#See contents of documents, probably only do this with one document as a test\n",
    "#documents"
   ]
  },
  {
   "cell_type": "code",
   "execution_count": 8,
   "id": "770deb6f-9217-40d4-a986-30dd70df8ec6",
   "metadata": {},
   "outputs": [],
   "source": [
    "#Split the text using Recursive Character Text Splitter - other text splitting algos available\n",
    "text_splitter = RecursiveCharacterTextSplitter(chunk_size=1000, chunk_overlap=200)"
   ]
  },
  {
   "cell_type": "code",
   "execution_count": 9,
   "id": "36d96ec4-a91f-4588-953e-e397c6a1c473",
   "metadata": {},
   "outputs": [],
   "source": [
    "#Assign each chunk of text to a different list item in docs (I think)\n",
    "docs = text_splitter.split_documents(documents)"
   ]
  },
  {
   "cell_type": "code",
   "execution_count": 13,
   "id": "b891fae2-5439-4a7b-9551-f5b7fb7da352",
   "metadata": {},
   "outputs": [
    {
     "data": {
      "text/plain": [
       "Document(metadata={'source': '/Users/kyli/Desktop/lab_gpt_example_docs/Lifshitz Lab Web Book.pdf'}, page_content='In embracing diversity, we recognize that every member brings unique strengths and perspectives to our team. Everyone has areas to improve in as well. With a commitment to maintaining an inclusive environment where everyone is encouraged and poised to succeed, any lab mate would be honored to contribute to the growth of another. By nurturing a diverse community, we believe we can achieve greater scientific excellence and create meaningful social impact.\\n\\nAt the Lifshitz Neurotrauma and Social Impact Team, our foundation is built upon a set of core tenets that guide our actions and interactions. These values reflect our commitment to research, collaboration, and personal growth.\\n\\nOpen Communication:\\n\\nWe believe in fostering an environment where communication flows freely and\\n\\nopenly. Sharing ideas, concerns, and insights strengthens our collective knowledge and drives innovation.\\n\\nScientific Integrity:')"
      ]
     },
     "execution_count": 13,
     "metadata": {},
     "output_type": "execute_result"
    }
   ],
   "source": [
    "#Look at one chunk of text\n",
    "docs[2]"
   ]
  },
  {
   "cell_type": "code",
   "execution_count": 14,
   "id": "76091b22-f77f-42bf-abe5-5bca6ce63453",
   "metadata": {},
   "outputs": [
    {
     "name": "stderr",
     "output_type": "stream",
     "text": [
      "/var/folders/nd/x23hpv_d1x742np3nmrj07240000gp/T/ipykernel_28732/1869522313.py:2: LangChainDeprecationWarning: The class `OpenAIEmbeddings` was deprecated in LangChain 0.0.9 and will be removed in 1.0. An updated version of the class exists in the :class:`~langchain-openai package and should be used instead. To use it run `pip install -U :class:`~langchain-openai` and import as `from :class:`~langchain_openai import OpenAIEmbeddings``.\n",
      "  embeddings = OpenAIEmbeddings()\n"
     ]
    },
    {
     "ename": "ValidationError",
     "evalue": "1 validation error for OpenAIEmbeddings\n  Value error, Did not find openai_api_key, please add an environment variable `OPENAI_API_KEY` which contains it, or pass `openai_api_key` as a named parameter. [type=value_error, input_value={'model_kwargs': {}, 'cli...20, 'http_client': None}, input_type=dict]\n    For further information visit https://errors.pydantic.dev/2.8/v/value_error",
     "output_type": "error",
     "traceback": [
      "\u001b[0;31m---------------------------------------------------------------------------\u001b[0m",
      "\u001b[0;31mValidationError\u001b[0m                           Traceback (most recent call last)",
      "Cell \u001b[0;32mIn[14], line 2\u001b[0m\n\u001b[1;32m      1\u001b[0m \u001b[38;5;66;03m#Create one instance of the OpenAIEmbeddings object\u001b[39;00m\n\u001b[0;32m----> 2\u001b[0m embeddings \u001b[38;5;241m=\u001b[39m OpenAIEmbeddings()\n",
      "File \u001b[0;32m/opt/anaconda3/envs/lab_gpt_env/lib/python3.12/site-packages/langchain_core/_api/deprecation.py:216\u001b[0m, in \u001b[0;36mdeprecated.<locals>.deprecate.<locals>.finalize.<locals>.warn_if_direct_instance\u001b[0;34m(self, *args, **kwargs)\u001b[0m\n\u001b[1;32m    214\u001b[0m     warned \u001b[38;5;241m=\u001b[39m \u001b[38;5;28;01mTrue\u001b[39;00m\n\u001b[1;32m    215\u001b[0m     emit_warning()\n\u001b[0;32m--> 216\u001b[0m \u001b[38;5;28;01mreturn\u001b[39;00m wrapped(\u001b[38;5;28mself\u001b[39m, \u001b[38;5;241m*\u001b[39margs, \u001b[38;5;241m*\u001b[39m\u001b[38;5;241m*\u001b[39mkwargs)\n",
      "File \u001b[0;32m/opt/anaconda3/envs/lab_gpt_env/lib/python3.12/site-packages/pydantic/main.py:193\u001b[0m, in \u001b[0;36mBaseModel.__init__\u001b[0;34m(self, **data)\u001b[0m\n\u001b[1;32m    191\u001b[0m \u001b[38;5;66;03m# `__tracebackhide__` tells pytest and some other tools to omit this function from tracebacks\u001b[39;00m\n\u001b[1;32m    192\u001b[0m __tracebackhide__ \u001b[38;5;241m=\u001b[39m \u001b[38;5;28;01mTrue\u001b[39;00m\n\u001b[0;32m--> 193\u001b[0m \u001b[38;5;28mself\u001b[39m\u001b[38;5;241m.\u001b[39m__pydantic_validator__\u001b[38;5;241m.\u001b[39mvalidate_python(data, self_instance\u001b[38;5;241m=\u001b[39m\u001b[38;5;28mself\u001b[39m)\n",
      "\u001b[0;31mValidationError\u001b[0m: 1 validation error for OpenAIEmbeddings\n  Value error, Did not find openai_api_key, please add an environment variable `OPENAI_API_KEY` which contains it, or pass `openai_api_key` as a named parameter. [type=value_error, input_value={'model_kwargs': {}, 'cli...20, 'http_client': None}, input_type=dict]\n    For further information visit https://errors.pydantic.dev/2.8/v/value_error"
     ]
    }
   ],
   "source": [
    "#Create one instance of the OpenAIEmbeddings object\n",
    "embeddings = OpenAIEmbeddings()"
   ]
  },
  {
   "cell_type": "code",
   "execution_count": null,
   "id": "0872f3a0-fe04-411e-9e68-0b02dc4b61ab",
   "metadata": {},
   "outputs": [],
   "source": []
  }
 ],
 "metadata": {
  "kernelspec": {
   "display_name": "Python (lab_gpt_env)",
   "language": "python",
   "name": "lab_gpt_env"
  },
  "language_info": {
   "codemirror_mode": {
    "name": "ipython",
    "version": 3
   },
   "file_extension": ".py",
   "mimetype": "text/x-python",
   "name": "python",
   "nbconvert_exporter": "python",
   "pygments_lexer": "ipython3",
   "version": "3.12.2"
  }
 },
 "nbformat": 4,
 "nbformat_minor": 5
}
