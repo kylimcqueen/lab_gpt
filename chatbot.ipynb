{
 "cells": [
  {
   "cell_type": "markdown",
   "id": "2b52d915-1ec7-45ba-8d85-a5a51c039d9a",
   "metadata": {},
   "source": [
    "# Setup"
   ]
  },
  {
   "cell_type": "code",
   "execution_count": 1,
   "id": "aa8e72b2-c3aa-4fd7-8b19-446f0eb45541",
   "metadata": {},
   "outputs": [],
   "source": [
    "#Import necessary packages\n",
    "import os\n",
    "from openai import OpenAI"
   ]
  },
  {
   "cell_type": "code",
   "execution_count": 2,
   "id": "768a21fd-d919-4479-be9c-6d2ea8a1b641",
   "metadata": {},
   "outputs": [],
   "source": [
    "#Return later to figure out how to load environment variables file DO THIS NEXT TIME YOU OPEN THE NOTEBOOK OR ELSE MOST RECENT CELL WONT RUN"
   ]
  },
  {
   "cell_type": "code",
   "execution_count": 3,
   "id": "53ed48a4-9afc-4e7c-854c-64f819badb03",
   "metadata": {},
   "outputs": [
    {
     "ename": "SyntaxError",
     "evalue": "incomplete input (847048965.py, line 1)",
     "output_type": "error",
     "traceback": [
      "\u001b[0;36m  Cell \u001b[0;32mIn[3], line 1\u001b[0;36m\u001b[0m\n\u001b[0;31m    '''#Langchain import statements\u001b[0m\n\u001b[0m    ^\u001b[0m\n\u001b[0;31mSyntaxError\u001b[0m\u001b[0;31m:\u001b[0m incomplete input\n"
     ]
    }
   ],
   "source": [
    "'''#Langchain import statements\n",
    "from langchain.document_loaders import DirectoryLoader\n",
    "from langchain.text_splitter import RecursiveCharacterTextSplitter\n",
    "from langchain.embeddings import OpenAIEmbeddings\n",
    "from langchain.vectorstores import Chroma\n",
    "from langchain.chains import RetrievalQA\n",
    "from langchain.chat_models import ChatOpenAI"
   ]
  },
  {
   "cell_type": "code",
   "execution_count": 4,
   "id": "58d0ff5d-5a35-4d53-bed3-dfceeac4b8e9",
   "metadata": {},
   "outputs": [],
   "source": [
    "from dotenv import load_dotenv\n",
    "\n",
    "# Load the environment file explicitly\n",
    "from pathlib import Path\n",
    "dotenv_path = Path('/Users/kyli/Documents/GitHub/lab_gpt/environment_variables.env')\n",
    "load_dotenv(dotenv_path=dotenv_path)\n",
    "\n",
    "# Access variables\n",
    "openai_api_key = os.getenv(\"OPENAI_API_KEY\")\n",
    "google_maps_api_key = os.getenv(\"GOOGLE_MAPS_API_KEY\")\n",
    "huggingface_api_key = os.getenv(\"HUGGINGFACE_API_KEY\")\n",
    "pinecone_api_key = os.getenv(\"PINECONE_API_KEY\")\n",
    "langchain_api_key = os.getenv(\"LANGCHAIN_API_KEY\")"
   ]
  },
  {
   "cell_type": "code",
   "execution_count": 5,
   "id": "53d5ee5d-e0af-4fb6-bd59-8d7ce1a6adfe",
   "metadata": {},
   "outputs": [],
   "source": [
    "#Tkinter import statements\n",
    "import tkinter as tk\n",
    "from tkinter import filedialog"
   ]
  },
  {
   "cell_type": "code",
   "execution_count": 6,
   "id": "76091b22-f77f-42bf-abe5-5bca6ce63453",
   "metadata": {},
   "outputs": [
    {
     "ename": "NameError",
     "evalue": "name 'OpenAIEmbeddings' is not defined",
     "output_type": "error",
     "traceback": [
      "\u001b[0;31m---------------------------------------------------------------------------\u001b[0m",
      "\u001b[0;31mNameError\u001b[0m                                 Traceback (most recent call last)",
      "Cell \u001b[0;32mIn[6], line 2\u001b[0m\n\u001b[1;32m      1\u001b[0m \u001b[38;5;66;03m#Create one instance of the OpenAIEmbeddings object - THIS IS PROBABLY IN THE WRONG PLACE\u001b[39;00m\n\u001b[0;32m----> 2\u001b[0m embeddings \u001b[38;5;241m=\u001b[39m OpenAIEmbeddings(openai_api_key\u001b[38;5;241m=\u001b[39mOPENAI_API_KEY)\n",
      "\u001b[0;31mNameError\u001b[0m: name 'OpenAIEmbeddings' is not defined"
     ]
    }
   ],
   "source": [
    "#Create one instance of the OpenAIEmbeddings object - THIS IS PROBABLY IN THE WRONG PLACE\n",
    "embeddings = OpenAIEmbeddings(openai_api_key=OPENAI_API_KEY)"
   ]
  },
  {
   "cell_type": "markdown",
   "id": "d1e8f374-c320-4ba2-9f1b-4499d5722861",
   "metadata": {},
   "source": [
    "# Document loading"
   ]
  },
  {
   "cell_type": "code",
   "execution_count": 4,
   "id": "396e0e88-3a21-4a94-94fb-54f02069c1fd",
   "metadata": {},
   "outputs": [],
   "source": [
    "#Load and preprocess documents\n",
    "loader = DirectoryLoader(\"/Users/kyli/Desktop/lab_gpt_example_docs/01_pathophys_tbi.pdf\")"
   ]
  },
  {
   "cell_type": "code",
   "execution_count": 5,
   "id": "5310c74f-f3f1-45ea-8010-8a284a696ebe",
   "metadata": {},
   "outputs": [
    {
     "name": "stderr",
     "output_type": "stream",
     "text": [
      "/opt/anaconda3/envs/lab_gpt_env/lib/python3.12/site-packages/tqdm/auto.py:21: TqdmWarning: IProgress not found. Please update jupyter and ipywidgets. See https://ipywidgets.readthedocs.io/en/stable/user_install.html\n",
      "  from .autonotebook import tqdm as notebook_tqdm\n"
     ]
    }
   ],
   "source": [
    "#Load documents\n",
    "documents = loader.load()"
   ]
  },
  {
   "cell_type": "code",
   "execution_count": 6,
   "id": "542f408b-ff48-4eaf-b4f6-9c3559e22f0f",
   "metadata": {},
   "outputs": [
    {
     "data": {
      "text/plain": [
       "[Document(metadata={'source': '/Users/kyli/Desktop/lab_gpt_example_docs/01 Pathophys of TBI.pdf'}, page_content='Pathophysiology of Traumatic Brain Injury\\n\\nKatherine R. Giordano and Jonathan Lifshitz\\n\\n2.1\\n\\nIntroduction\\n\\nIn broad terms, traumatic brain injury (TBI) is induced by mechanical forces applied to the head that displace the brain within the skull and dis- rupt neurological function. TBI can result from rotation, acceleration/deceleration of the brain, focal cavitation, blast-wave exposure, or a com- bination of biomechanical conditions. Following the mechanical force, pathophysiological pro- cesses are initiated, which extend the classifica- tion of TBI from an event to a complex disease [1]. Resultant clinical symptoms from the mechanical force and elements of the pathophys- iology contribute to the designation of injury severity (mild, moderate, severe, debilitating, recoverable, fatal). Symptoms after TBI are highly variable even within each pathoanatomi- cal classification of injury, such that the variabil- ity demonstrates the heterogeneity of TBI as a disease. Some of the factors that contribute to TBI heterogeneity include the magnitude of the\\n\\nmechanical force, the location of the impact, pre- injury lifestyle, and genetics. However, even when all factors are considered, the complexity of the pathophysiology can make it difficult to determine which individuals recover and which may experience chronic morbidities [2]. The vast majority of TBIs are diffuse with symptoms that resolve within an acute to subacute time course (1–10 days post-injury). Persistent symptoms can lead to the diagnosis of post-concussion syn- drome, which can last for months or years after the injury and is estimated to occur in about 10–15% of milder cases [3]. Common enduring symptoms of TBI can be broadly categorized as cognitive, somatic, or emotional, and the occur- rence of long-term negative outcomes after TBI increases with injury severity [2, 3]. Collectively, TBI, whether focal, diffuse, and mixed focal/dif- fuse, is a leading cause of death and chronic dis- ability worldwide [3].\\n\\nK. R. Giordano · J. Lifshitz (*) Barrow Neurological Institute at Phoenix Children’s Hospital, Phoenix, AZ, USA\\n\\nDepartment of Child Health, University of Arizona College of Medicine – Phoenix, Phoenix, AZ, USA\\n\\nPhoenix VA Health Care System, Phoenix, AZ, USA e-mail: jlifshitz@email.arizona.edu\\n\\nThe clinical presentation and subsequent recovery is unique to each individual who sur- vives a TBI and ranges from minimal life disrup- tion to prolonged intensive care and long-term dependence. However, despite a spectrum of clinical features and symptoms, the pathophysi- ological processes that occur after TBI are simi- lar across most injuries and differ primarily in the magnitude and duration of the pathophysiology [3]. It is necessary to note that this is not the case\\n\\n© Springer Nature Switzerland AG 2021 S. Honeybul, A. G. Kolias (eds.), Traumatic Brain Injury, https://doi.org/10.1007/978-3-030-78075-3_2\\n\\n13\\n\\n2\\n\\n14\\n\\nfor all acquired neurological injuries. Examples include penetrating injury and blast injury, which share many of the pathophysiological character- istics of other injury types, but additional distinct pathophysiological processes occur, such as extensive mechanical damage (penetrating injury) or blast-wave exposure (blast injury) [2]. In this chapter, we will discuss the common pathophysiology of diffuse TBI and how patho- physiological processes lead to clinical symp- toms and chronic pathology.\\n\\n2.2\\n\\nAcute Pathophysiology\\n\\nneurological test or biomarker to diagnose TBI; however, loss of consciousness and the fencing response indicate that mechanical force has been applied to the brain and disrupted neurological function. These studies are critical to our under- standing of the biomechanics of TBI and estab- lish diagnostic clinical signs of TBI. Additional transient symptoms that we speculate are direct consequences of the mechanical forces on the brainstem after TBI include immediate disorien- tation, dizziness, slurred speech, vomiting, and spontaneous sneezing, snoring, or crying. These symptoms are not mutually exclusive and do not occur in all cases of diffuse TBI but rather are dependent on the parameters of the initiating mechanical force.\\n\\n2.2.1\\n\\nConsequences of Mechanical Force and Deformation\\n\\nMechanical trauma occurs upon impact when blunt force or rotational and/or linear forces are irreversibly exerted onto the brain. Resultant pathophysiology based on the type, magnitude, and location of the force can lead to immediate observable clinical symptoms that are often involuntary reflexes or responses involving brain- stem function, such as loss of consciousness. Loss of consciousness can occur after TBI, but is not present in all cases and not necessarily related to clinical outcomes [3]. In a porcine rotational model of mild TBI, sustained loss of conscious- ness (10–35 min) occurred only after axial plane rotation of the brain (transverse to the brainstem), whereas coronal plane rotation (circumferential to the brainstem) did not induce loss of con- sciousness, despite similar magnitude of force applied to the head [4]. Another example of an immediate observable clinical sign after TBI is the transient extension and/or flexion of the fore- arms, which is known as the fencing response [5]. The fencing response is used as a diagnostic tool to detect TBI predominantly in contact sports such as American football, because forces applied to the brainstem activate vestibular motor neu- rons [5]. The experimental findings of Browne et al. and Hosseini and Lifshitz demonstrate immediate functional changes due to the direc- tionality and magnitude of the mechanical forces that initiate the injury [4, 5]. There is no single\\n\\n2.2.2\\n\\nIonic and Metabolic Disruption\\n\\nFollowing the mechanical impact, acceleration and/or deceleration of the brain within the skull induces widespread damage from strain, tissue distortion, and shearing of axons. At the cellular level, ensuing mechanical-induced neuronal membrane disruption leads to an immediate efflux of potassium ions. Considerable increases in extracellular potassium evoke nonspecific neu- ronal depolarization and the release of glutamate neurotransmitter. Glutamate activates kainate, NMDA, and AMPA receptors to excite postsyn- aptic neurons. Glutamate release further exacer- bates the efflux of potassium, creating a positive feedback loop of excitation in the immediate minutes following the impact. As above, the mechanical forces applied to the brainstem can release glutamate and activate neurons in the lat- eral vestibular nucleus to elicit the fencing response. Subsequently, activated NMDA recep- tors permit an influx of calcium ions to accumu- late in the cell within hours of the impact and continue for 2–4 days post-injury [6]. Intracellular calcium- calcium dependent proteases, interferes with mitochon- drial oxidative phosphorylation, compacts neurofilaments, and has downstream negative effects on axon function [2, 3, 6]. ATP-dependent\\n\\naccumulation\\n\\nactivates\\n\\n15\\n\\nNa+/K+ pumps are activated to redistribute ions, but stored glucose is quickly consumed [7]. To restore homeostasis, glucose metabolism is increased in the brain. This hyperglycolysis increases the production of ATP but also the pro- duction of lactate, where excess lactate can fur- ther damage neuronal membranes, increase blood-brain barrier (BBB) permeability, and induce cytotoxic edema [6]. Following hypergly- colysis, the brain undergoes a prolonged period of glucose hypometabolism, which may leave the brain more vulnerable to a second injury and restrict the repair potential [6, 8]. The cellular processes initiated by the mechanical impact are a frenzy of activity to control the damage, while subsequent pathophysiological processes evolve with the TBI.\\n\\n2.2.3\\n\\nDiffuse Axonal Injury\\n\\nDiffuse axonal injury (DAI) is considered a char- acteristic hallmark of diffuse TBI [9]. Mechanical damage to axonal membranes leads to impaired axonal transport due to the cellular processes described above (increased calcium influx, mito- chondrial dysfunction, and neurofilament com- paction) and results in varying degrees of axonal swelling and disconnection [6, 10]. Unmyelinated axons are especially vulnerable to injury-induced mechanical damage without the added physical protection from myelin [10]. Primary axotomy, or axon disconnection due to mechanical trauma, begins in the immediate to acute phase post- injury (5 min to 24 h) [6, 7]. Secondary axotomy, or eventual disconnection after initial axonal swelling, can also occur during the acute phase post-injury (4 h), with continued evidence for days or weeks after the injury [6]. While DAI is primarily characterized by axonal swelling and disconnection, cytoskeletal damage in axons without the evidence of swelling or disconnec- tion results in additional axonal degradation [10]. DAI is understood to occur in most incidences of diffuse TBI, and experimental models have dem- onstrated that the severity of DAI pathophysiol- ogy corresponds injury severity as the measured by neurological performance [3, 4, 7].\\n\\nto\\n\\nHowever, axotomy does not necessarily lead to neuronal cell death but rather atrophy, recovery, and even regenerative attempts [11]. Ultimately, DAI disrupts the original neuronal circuitry within the injured brain.\\n\\n2.2.4\\n\\nVascular Disruption and Dysfunction\\n\\nVascular structure and integrity are vulnerable to the mechanical forces that cause TBI. For the most part, the extent of mechanical-induced vas- cular damage parallels injury severity, with evi- dence for hemorrhage, microhemorrhage, and hematoma, which can be detected by iron depos- its and hemosiderin months later. In the more subtle situations, vascular dysfunction occurs without overt structure damage and may be a consequence of neuronal and glial pathophysiol- ogy. After TBI, cerebral blood flow (CBF) has been reported to be reduced to levels that qualify as ischemic conditions [7]. Furthermore, the BBB becomes disrupted and permeable as a direct result of mechanical force or acceleration and or/deceleration of the brain, or subsequent to the pathophysiology, particularly inflammatory proteins and proteases [12]. BBB permeability may lead to vasogenic edema and subsequent increased intracranial pressure, as well as infiltra- tion of peripheral blood components including immune cells, iron, and reactive oxygen species [6, 12]. The collection of vascular responses to TBI can compromise neuronal function and intensify pathophysiological processes.\\n\\n2.2.5\\n\\nInflammation\\n\\nMechanical and pathophysiological damage pro- duces inflammatory and cytotoxic molecules in the injured environment. In response, glial cells become activated, inflammatory signaling propa- gates, and peripheral immune cells are recruited to sites of injury, in order to mitigate the damage. Glial activation encompasses astrocytes and microglia and directly impacts other physiologi- cal processes that regulate functional recovery\\n\\n16\\n\\nafter TBI. Upon activation, astrocytes undergo a hypertrophic morphological change and increase proliferation. Activated astrocytes notably form a glial scar around necrotic lesions (if present) after injury; however, glial scars are uncommon after diffuse TBI due to a lack of overt cell death. Instead, activated astrocytes predominantly sup- port neuronal health after diffuse injury through upregulation of neurotrophic factors and reduc- tion of excess extracellular glutamate in attempt to decrease excitotoxicity [13]. Astrogliosis is a critical pathophysiological process that reduces neuronal death after injury and promotes axonal regeneration. Nevertheless, prolonged astroglio- sis may deter neural circuit function and prevent axonal regeneration.\\n\\nMicroglia are the resident innate immune cells in the brain, and microglia activation can be trig- gered within minutes of the impact by mediators in the extracellular microenvironment, such as danger-associated molecular patterns (DAMPs), excess glutamate, peripheral blood components, growth factors, and cytokines [13]. Like astro- cytes, activated microglia undergo morphologi- cal and functional changes. In a healthy brain environment, ramified microglia with small, round somas and long, thin, radially extended processes blanket the parenchyma. After injury, activated microglia can take on multiple mor- phologies with distinct hypothesized functions. Activated morphologies include a swollen soma with short, thickened processes, an amoeboid morphology with no processes, and a rod mor- phology with processes projecting only from the basal and apical poles of an elongated soma [14]. Activated microglia were once thought to be either anti-inflammatory or pro-inflammatory. However, activation is now understood to be a spectrum, and morphology and linked function are dependent on the surrounding extracellular environment and signaling from nearby neurons [14]. Upon activation, microglia increase prolif- eration, migrate to sites of injury, remove cellular debris, and promote circuit reorganization. Additionally, microglia secrete pro- and anti- inflammatory cytokines, chemokines, trophic factors, free radicals, and other substances to either promote or inhibit inflammation. Chronic\\n\\nmicroglia activation has been shown years after TBI and may be linked to the delayed develop- ment of neurodegenerative pathology [13].\\n\\nInflammatory signaling is largely propagated by the cytokines and chemokines produced by activated microglia. In experimental and clinical studies, transient acute changes in cytokines (IL- 1β, TNF-α, IL-6, IL-10) have been shown in the CNS and periphery after TBI [10, 13]. In addition to promoting microglia activation and neuroin- flammatory cascades, chemokine signaling recruits peripheral immune cells, predominantly neutrophils and monocytes/macrophages, to the injured brain. Depending on the extent of BBB damage and permeability from mechanical impact and other pathophysiological processes, peripheral immune cells may infiltrate the brain and carry out inflammatory functions similar to activated microglia. Beyond infiltration to the brain, TBI-induced activated immune cells can also infiltrate peripheral organs [1]. The extent to which TBI impacts function in peripheral organs, such as the liver or lungs, due to inflammation is still being explored and must be considered in a review of systems. Inflammation is a key patho- physiological process after TBI. Inflammatory processes may be neuroprotective acutely, but the prolonged injury. Understanding the time course and mech- anisms of the beneficial and detrimental effects of inflammation after TBI is critical to advancing care and treatment for TBI survivors.\\n\\ninflammation can exacerbate\\n\\n2.2.6\\n\\nAltered Neural Circuitry\\n\\nAs acute pathophysiology resolves, recovery pro- cesses begin to restore homeostasis. Disrupted neural circuits that underlie the functional conse- quences and clinical symptoms of TBI undergo synaptic loss and deafferentation, initiated by axonal injury and executed by inflammatory pro- cesses. Following circuit damage and axon degeneration, neurorestoration, circuit reorgani- zation, and synaptic pruning begin in what could be considered a recapitulation of developmental processes [5, 15]. Experimental and clinical stud- ies demonstrate upregulated trophic and growth\\n\\n17\\n\\nfactors acutely after TBI, which provide evidence of attempted repair and regeneration [15]. While circuit reorganization is considered a recovery process, maladaptive circuits can produce delayed symptoms and chronic morbidities, such as sensory sensitivity and cognitive impairments [8, 10]. In-depth understanding of circuit reorga- nization mechanisms after TBI is necessary to guide treatment and rehabilitation strategies to maximize positive functional outcome.\\n\\nimpaired axonal transport [3]. However, Aβ con- tinues to be increased even after axonal transport function is restored and APP levels return to nor- mal [1]. Additionally, inflammation is a major pathophysiological process in both TBI and AD, where microglia activation may contribute to TBI-induced AD pathology [13]. While the link between TBI and AD pathology has been estab- lished, further mechanistic studies are needed in order to identify therapeutic targets to dissociate TBI-induced from AD pathology.\\n\\n2.3\\n\\nChronic Pathophysiology\\n\\nAs mentioned throughout this chapter, patho- physiological processes can lead to persistent symptoms and chronic morbidities in TBI survi- vors. Additionally, chronic pathophysiology has been linked to delayed neurodegenerative pathol- ogy, which includes brain atrophy and accumula- tion of amyloid beta (Aβ) and/or tau protein; however, none of these studies are conclusive, given the long duration and extenuating circum- stances of life. TBI survivors, particularly indi- viduals who experienced repetitive TBI, are shown to be at higher risk to develop neurode- generative diseases life, such as later Alzheimer’s disease (AD), Parkinson’s disease (PD), and chronic traumatic encephalopathy (CTE). While there may be an association with TBI exposure, many factors (e.g., genetics, health history) influence which survivors may be more at risk.\\n\\nin\\n\\nAD pathology is widely associated with Aβ plaques and neurofibrillary tangles in the paren- chyma. Accumulation of Aβ can occur after TBI; however, Aβ accumulation does not occur after all cases of TBI [7]. While it is possible that sub- sequent development of AD pathology may cor- respond to TBI exposure, even in the absence of acute TBI-induced cognitive impairment, the exact mechanism of Aβ accumulation after TBI is unknown [1, 7]. There are multiple hypothesized pathophysiological processes that contribute to AD-related pathology. For example, acute increased levels of Aβ may be caused by the cleavage of amyloid precursor protein (APP) by γ-secretase complex and β-secretase 1 during\\n\\nCTE is a post-mortem pathological diagnosis that has gained attention in recent years. CTE is defined by aggregated hyperphosphorylated tau protein in the brain, and the mechanism respon- sible for TBI-induced tau accumulation is still being investigated. One hypothesis suggests that tau production is increased after TBI in order to preserve microtubule structure and function [3]. Upregulation of tau production could lead to tau accumulation, which defines CTE pathology. Alternatively, TBI-induced abnormal phosphor- ylation of tau leads to tau dysfunction and sub- sequent accumulation [3]. Many clinicians advocate that TBI is a treatable condition that does not always lead to CTE. There is a critical need for TBI-induced CTE research in order to better understand the time course and functional consequences of this chronic pathology. It is important to note that delayed neurodegenera- tive pathology and associated symptoms do not occur in all cases of single or repetitive TBI, and much controversy exists surrounding the under- lying mechanisms of TBI-induced neurodegen- erative pathophysiology and resultant functional outcome.\\n\\n2.4\\n\\nConclusion\\n\\nIn summary, pathophysiological processes are initiated immediately after TBI and underlie the range of symptoms experienced by individuals. Pathophysiology and resultant symptoms can persist for years after the impact. In this chapter, we discussed some of the most common pathophysiology after diffuse TBI, which involves every compartment of the brain and\\n\\n18\\n\\nbeyond. While discussion may have been pre- sented in a linear manner, TBI-induced patho- physiological processes are interdependent, and these processes occur simultaneously. Kenzie et al. effectively diagrams the complexity of TBI pathophysiology and highlights the overlapping feedback loops that contribute to injury and recovery [2]. Despite decades of research on the topic of pathophysiology of TBI, many mecha- nisms remain poorly understood. We must con- tinue to investigate pathophysiological processes in order to improve diagnosis and prognosis while opening avenues for therapeutic treatment options for the complexity of TBI.\\n\\n4. Browne KD, Chen XH, Meaney DF, et al. Mild trau- matic brain injury and diffuse axonal injury in swine. J Neurotrauma. 2011;28:1747–55.\\n\\n5. Hosseini AH, Lifshitz J. Brain injury forces of mod- erate magnitude elicit the fencing response. Med Sci Sports Exerc. 2009;41:1687–97.\\n\\n6. Giza CC, Hovda DA. The neurometabolic cascade of concussion. J Athl Train. 2001;36:228–35.\\n\\n7. Barkhoudarian G, Hovda DA, Giza CC. The molecular pathophysiology of concussive brain injury—an update. Phys Med Rehabil Clin N Am. 2016;27:373–93.\\n\\n8. Lifshitz J, Rowe RK, Griffiths DR, et al. Clinical rel- evance of midline fluid percussion brain injury: acute deficits, chronic morbidities and the utility of bio- markers. Brain Inj. 2016;30:1293–301.\\n\\n9. Biasca N, Maxwell WL. Minor traumatic brain injury in sports: a review in order to prevent neurological sequelae. Prog Brain Res. 2007;161:263–91.\\n\\nFinancial Support No financial support has been required for this research\\n\\n10. McGinn MJ, Povlishock JT. Pathophysiology of traumatic brain injury. Neurosurg Clin N Am. 2016;27:397–407.\\n\\nConflict of Interest None declared\\n\\n11. Lifshitz J, Kelley BJ, Povlishock JT. Perisomatic tha- lamic axotomy after diffuse traumatic brain injury is associated with atrophy rather than cell death. J Neuropathol Exp Neurol. 2007;66:218–29.\\n\\nReferences\\n\\n1. Masel BE, DeWitt DS. Traumatic brain injury: a disease process, not an event. J Neurotrauma. 2010;27:1529–40.\\n\\n2. Kenzie ES, Parks EL, Bigler ED, Wright DW, Lim MM, Chesnutt JC, et al. The dynamics of concussion: mapping pathophysiology, persistence, and recov- ery with causal-loop diagramming. Front Neurol. 2018;9:203.\\n\\n3. Blennow K, Brody DL, Kochanek PM, et al. Traumatic brain injuries. Nat Rev Dis Primers. 2016;2:16084.\\n\\n12. Salehi A, Zhang JH, Obenaus A. Response of the cerebral vasculature following traumatic brain injury. J Cereb Blood Flow Metab. 2017;37:2320–39.\\n\\n13. Kumar A, Loane DJ. Neuroinflammation after trau- matic brain injury: opportunities for therapeutic inter- vention. Brain Behav Immun. 2012;26:1191–201. 14. Ziebell JM, Adelson PD, Lifshitz J. Microglia: dis- mantling and rebuilding circuits after acute neurologi- cal injury. Metab Brain Dis. 2015;30:393–400.\\n\\n15. Graham DI, McIntosh TK, Maxwell WL, et al. Recent advances in neurotrauma. J Neuropathol Exp Neurol. 2000;59:641–51.')]"
      ]
     },
     "execution_count": 6,
     "metadata": {},
     "output_type": "execute_result"
    }
   ],
   "source": [
    "#See contents of documents, probably only do this with one document as a test\n",
    "documents"
   ]
  },
  {
   "cell_type": "code",
   "execution_count": 7,
   "id": "770deb6f-9217-40d4-a986-30dd70df8ec6",
   "metadata": {},
   "outputs": [],
   "source": [
    "#Split the text using Recursive Character Text Splitter - other text splitting algos available\n",
    "text_splitter = RecursiveCharacterTextSplitter(chunk_size=1000, chunk_overlap=200)"
   ]
  },
  {
   "cell_type": "code",
   "execution_count": 8,
   "id": "36d96ec4-a91f-4588-953e-e397c6a1c473",
   "metadata": {},
   "outputs": [],
   "source": [
    "#Assign each chunk of text to a different list item in docs (I think)\n",
    "docs = text_splitter.split_documents(documents)"
   ]
  },
  {
   "cell_type": "code",
   "execution_count": 9,
   "id": "b891fae2-5439-4a7b-9551-f5b7fb7da352",
   "metadata": {},
   "outputs": [
    {
     "data": {
      "text/plain": [
       "Document(metadata={'source': '/Users/kyli/Desktop/lab_gpt_example_docs/01 Pathophys of TBI.pdf'}, page_content='mechanical force, the location of the impact, pre- injury lifestyle, and genetics. However, even when all factors are considered, the complexity of the pathophysiology can make it difficult to determine which individuals recover and which may experience chronic morbidities [2]. The vast majority of TBIs are diffuse with symptoms that resolve within an acute to subacute time course (1–10 days post-injury). Persistent symptoms can lead to the diagnosis of post-concussion syn- drome, which can last for months or years after the injury and is estimated to occur in about 10–15% of milder cases [3]. Common enduring symptoms of TBI can be broadly categorized as cognitive, somatic, or emotional, and the occur- rence of long-term negative outcomes after TBI increases with injury severity [2, 3]. Collectively, TBI, whether focal, diffuse, and mixed focal/dif- fuse, is a leading cause of death and chronic dis- ability worldwide [3].')"
      ]
     },
     "execution_count": 9,
     "metadata": {},
     "output_type": "execute_result"
    }
   ],
   "source": [
    "#Look at one chunk of text\n",
    "docs[2]"
   ]
  },
  {
   "cell_type": "code",
   "execution_count": 23,
   "id": "1e6bba44-4ee0-4544-b451-d616fc2b0eeb",
   "metadata": {},
   "outputs": [],
   "source": [
    "#Import text=splitting algorithm - there ae multiple options available\n",
    "from langchain.text_splitter import RecursiveCharacterTextSplitter"
   ]
  },
  {
   "cell_type": "code",
   "execution_count": 24,
   "id": "0872f3a0-fe04-411e-9e68-0b02dc4b61ab",
   "metadata": {},
   "outputs": [],
   "source": [
    "#How many characters in each text chunk\n",
    "chunk_size = 26\n",
    "#How many characters overlap between each text chunk\n",
    "chunk_overlap = 4"
   ]
  },
  {
   "cell_type": "code",
   "execution_count": 26,
   "id": "9c691a2b-5d85-4fd6-ad84-ab9b81b375d5",
   "metadata": {},
   "outputs": [],
   "source": [
    "#Create an instance of RecursiveCharacterTextSplitter, assign to variable r_splitter\n",
    "r_splitter = RecursiveCharacterTextSplitter(\n",
    "    chunk_size = chunk_size,\n",
    "    chunk_overlap = chunk_overlap,\n",
    ")"
   ]
  },
  {
   "cell_type": "code",
   "execution_count": null,
   "id": "42963133-9923-42cc-9b83-ce7e52c2ed60",
   "metadata": {},
   "outputs": [],
   "source": [
    "#Get rid of the Chroma db - if you're doin ga new practice run or final product\n",
    "#db.delete()"
   ]
  }
 ],
 "metadata": {
  "kernelspec": {
   "display_name": "Python (lab_gpt_env)",
   "language": "python",
   "name": "lab_gpt_env"
  },
  "language_info": {
   "codemirror_mode": {
    "name": "ipython",
    "version": 3
   },
   "file_extension": ".py",
   "mimetype": "text/x-python",
   "name": "python",
   "nbconvert_exporter": "python",
   "pygments_lexer": "ipython3",
   "version": "3.12.2"
  }
 },
 "nbformat": 4,
 "nbformat_minor": 5
}
